{
 "cells": [
  {
   "cell_type": "code",
   "execution_count": 11,
   "id": "848740e4-37bf-4a5d-856a-f688e6973543",
   "metadata": {
    "tags": []
   },
   "outputs": [],
   "source": [
    "import pandas as pd\n",
    "from sklearn.model_selection import train_test_split\n",
    "from sklearn.preprocessing import MinMaxScaler\n",
    "from tensorflow.keras.models import Sequential\n",
    "from tensorflow.keras.layers import Dense, Conv1D, Flatten, MaxPooling1D, Dropout"
   ]
  },
  {
   "cell_type": "markdown",
   "id": "9f8d27b3-bb01-4bd8-83ab-7da312dd6082",
   "metadata": {
    "tags": []
   },
   "source": [
    "# Load the data"
   ]
  },
  {
   "cell_type": "code",
   "execution_count": 12,
   "id": "a1773c52-2274-479e-a167-e0e1aa7db9c4",
   "metadata": {
    "tags": []
   },
   "outputs": [],
   "source": [
    "data = pd.read_csv('feature-envy-2020+2019+2018.csv')\n",
    "data = data[['ATFD_method', 'LAA_method','is_feature_envy']]"
   ]
  },
  {
   "cell_type": "markdown",
   "id": "1618e175-174d-4ae0-9840-1742c3116535",
   "metadata": {},
   "source": [
    "# Normalize the data"
   ]
  },
  {
   "cell_type": "code",
   "execution_count": 13,
   "id": "4cd31342-6fb2-4227-b118-d185c812cd97",
   "metadata": {
    "tags": []
   },
   "outputs": [],
   "source": [
    "scaler = MinMaxScaler()\n",
    "data_scaled = scaler.fit_transform(data.drop(columns='is_feature_envy'))\n",
    "X = data_scaled.reshape(data_scaled.shape[0], data_scaled.shape[1], 1)\n",
    "y = data['is_feature_envy'].values"
   ]
  },
  {
   "cell_type": "markdown",
   "id": "4a66023d-7437-41fe-85b0-416799090ddb",
   "metadata": {},
   "source": [
    "# Split data"
   ]
  },
  {
   "cell_type": "code",
   "execution_count": 14,
   "id": "26212790-c2f9-489d-b7c4-8bcc983cb4f9",
   "metadata": {
    "tags": []
   },
   "outputs": [],
   "source": [
    "X_train, X_test, y_train, y_test = train_test_split(X, y, test_size=0.2, random_state=42)"
   ]
  },
  {
   "cell_type": "markdown",
   "id": "568e6150-2890-4465-a880-f94e15f44124",
   "metadata": {},
   "source": [
    "# Model Building"
   ]
  },
  {
   "cell_type": "code",
   "execution_count": 15,
   "id": "ffe02e7d-c52a-4cb9-b763-26b27b9c6a26",
   "metadata": {
    "tags": []
   },
   "outputs": [
    {
     "name": "stdout",
     "output_type": "stream",
     "text": [
      "Model: \"sequential_1\"\n",
      "_________________________________________________________________\n",
      " Layer (type)                Output Shape              Param #   \n",
      "=================================================================\n",
      " conv1d_1 (Conv1D)           (None, 1, 32)             96        \n",
      "                                                                 \n",
      " flatten_1 (Flatten)         (None, 32)                0         \n",
      "                                                                 \n",
      " dense_3 (Dense)             (None, 128)               4224      \n",
      "                                                                 \n",
      " dropout_1 (Dropout)         (None, 128)               0         \n",
      "                                                                 \n",
      " dense_4 (Dense)             (None, 64)                8256      \n",
      "                                                                 \n",
      " dense_5 (Dense)             (None, 1)                 65        \n",
      "                                                                 \n",
      "=================================================================\n",
      "Total params: 12,641\n",
      "Trainable params: 12,641\n",
      "Non-trainable params: 0\n",
      "_________________________________________________________________\n"
     ]
    }
   ],
   "source": [
    "model = Sequential()\n",
    "\n",
    "model.add(Conv1D(filters=32, kernel_size=2, activation='relu', input_shape=(X_train.shape[1], 1)))\n",
    "\n",
    "model.add(Flatten())\n",
    "model.add(Dense(128, activation='relu'))\n",
    "model.add(Dropout(0.5))\n",
    "\n",
    "model.add(Dense(64, activation='relu'))\n",
    "model.add(Dense(1, activation='sigmoid'))\n",
    "\n",
    "model.compile(optimizer='adam', loss='binary_crossentropy', metrics=['accuracy'])\n",
    "model.summary()"
   ]
  },
  {
   "cell_type": "markdown",
   "id": "db265f03-96e2-4d97-85ad-79eb20c8967a",
   "metadata": {},
   "source": [
    "# Train the model"
   ]
  },
  {
   "cell_type": "code",
   "execution_count": 16,
   "id": "26a30530-a5e9-443b-8973-011a6b0f2b8b",
   "metadata": {
    "tags": []
   },
   "outputs": [
    {
     "name": "stdout",
     "output_type": "stream",
     "text": [
      "Epoch 1/10\n",
      "9/9 [==============================] - 2s 89ms/step - loss: 0.6908 - accuracy: 0.5114 - val_loss: 0.6814 - val_accuracy: 0.6364\n",
      "Epoch 2/10\n",
      "9/9 [==============================] - 0s 32ms/step - loss: 0.6872 - accuracy: 0.5682 - val_loss: 0.6754 - val_accuracy: 0.6364\n",
      "Epoch 3/10\n",
      "9/9 [==============================] - 0s 21ms/step - loss: 0.6837 - accuracy: 0.5682 - val_loss: 0.6739 - val_accuracy: 0.6364\n",
      "Epoch 4/10\n",
      "9/9 [==============================] - 0s 18ms/step - loss: 0.6857 - accuracy: 0.5682 - val_loss: 0.6700 - val_accuracy: 0.6364\n",
      "Epoch 5/10\n",
      "9/9 [==============================] - 0s 13ms/step - loss: 0.6853 - accuracy: 0.5682 - val_loss: 0.6704 - val_accuracy: 0.6364\n",
      "Epoch 6/10\n",
      "9/9 [==============================] - 0s 13ms/step - loss: 0.6820 - accuracy: 0.5682 - val_loss: 0.6712 - val_accuracy: 0.6364\n",
      "Epoch 7/10\n",
      "9/9 [==============================] - 0s 13ms/step - loss: 0.6806 - accuracy: 0.5682 - val_loss: 0.6716 - val_accuracy: 0.6364\n",
      "Epoch 8/10\n",
      "9/9 [==============================] - 0s 13ms/step - loss: 0.6786 - accuracy: 0.5682 - val_loss: 0.6670 - val_accuracy: 0.6364\n",
      "Epoch 9/10\n",
      "9/9 [==============================] - 0s 14ms/step - loss: 0.6860 - accuracy: 0.5682 - val_loss: 0.6668 - val_accuracy: 0.6364\n",
      "Epoch 10/10\n",
      "9/9 [==============================] - 0s 14ms/step - loss: 0.6855 - accuracy: 0.5682 - val_loss: 0.6695 - val_accuracy: 0.6364\n"
     ]
    },
    {
     "data": {
      "text/plain": [
       "<keras.callbacks.History at 0x1a3996a47c0>"
      ]
     },
     "execution_count": 16,
     "metadata": {},
     "output_type": "execute_result"
    }
   ],
   "source": [
    "model.fit(X_train, y_train, epochs=10, batch_size=32, validation_data=(X_test, y_test))"
   ]
  },
  {
   "cell_type": "markdown",
   "id": "47128afc-a911-4625-91ca-3f84f059dc1c",
   "metadata": {},
   "source": [
    "# Evaluation"
   ]
  },
  {
   "cell_type": "code",
   "execution_count": 17,
   "id": "9fb6f355-24ec-41ae-bd10-714aef7dcbc0",
   "metadata": {
    "tags": []
   },
   "outputs": [
    {
     "name": "stdout",
     "output_type": "stream",
     "text": [
      "3/3 [==============================] - 0s 12ms/step\n",
      "Recall: 1.0\n",
      "Precision: 0.6363636363636364\n",
      "F1 Score: 0.7777777777777778\n"
     ]
    }
   ],
   "source": [
    "from sklearn.metrics import recall_score, precision_score\n",
    "from sklearn.metrics import f1_score\n",
    "y_pred_probs = model.predict(X_test)\n",
    "y_pred = (y_pred_probs > 0.5).astype(int).flatten()\n",
    "\n",
    "recall = recall_score(y_test, y_pred)\n",
    "precision = precision_score(y_test, y_pred)\n",
    "f1 = f1_score(y_test, y_pred)\n",
    "\n",
    "print(f\"Recall: {recall}\")\n",
    "print(f\"Precision: {precision}\")\n",
    "print(f\"F1 Score: {f1}\")"
   ]
  },
  {
   "cell_type": "code",
   "execution_count": 18,
   "id": "11e12606-eb5b-4f0f-a0a3-d20bc587cde3",
   "metadata": {
    "tags": []
   },
   "outputs": [
    {
     "data": {
      "text/plain": [
       "['FeSyntheticScaler.pkl']"
      ]
     },
     "execution_count": 18,
     "metadata": {},
     "output_type": "execute_result"
    }
   ],
   "source": [
    "import joblib\n",
    "model.save('FeatureEnvy.h5')\n",
    "joblib.dump(scaler, 'FeScaler.pkl')"
   ]
  },
  {
   "cell_type": "code",
   "execution_count": null,
   "id": "28407510-847e-40a9-82f5-895c5f090eea",
   "metadata": {},
   "outputs": [],
   "source": []
  }
 ],
 "metadata": {
  "kernelspec": {
   "display_name": "Python 3 (ipykernel)",
   "language": "python",
   "name": "python3"
  },
  "language_info": {
   "codemirror_mode": {
    "name": "ipython",
    "version": 3
   },
   "file_extension": ".py",
   "mimetype": "text/x-python",
   "name": "python",
   "nbconvert_exporter": "python",
   "pygments_lexer": "ipython3",
   "version": "3.10.12"
  }
 },
 "nbformat": 4,
 "nbformat_minor": 5
}
