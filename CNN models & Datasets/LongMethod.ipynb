{
 "cells": [
  {
   "cell_type": "code",
   "execution_count": 1,
   "id": "ceb458fb-9901-4a7c-b9e3-e028c148ae4d",
   "metadata": {
    "tags": []
   },
   "outputs": [],
   "source": [
    "import pandas as pd\n",
    "from sklearn.model_selection import train_test_split\n",
    "from sklearn.preprocessing import MinMaxScaler\n",
    "from tensorflow.keras.models import Sequential\n",
    "from tensorflow.keras.layers import Dense, Conv1D, Flatten, MaxPooling1D, Dropout"
   ]
  },
  {
   "cell_type": "markdown",
   "id": "418a87e2-f007-465a-9642-5a2dfdce0725",
   "metadata": {},
   "source": [
    "# Load the data"
   ]
  },
  {
   "cell_type": "code",
   "execution_count": 2,
   "id": "559963d2-2490-4b39-937e-3159ae7eb521",
   "metadata": {
    "tags": []
   },
   "outputs": [],
   "source": [
    "data = pd.read_csv('long-method-2020+2019+2018.csv')\n",
    "data = data[['LOC_method', 'CC_method','is_long_method']]"
   ]
  },
  {
   "cell_type": "markdown",
   "id": "d051b642-59f1-4c2c-89f0-c59c105e975b",
   "metadata": {},
   "source": [
    "# Normalize the data"
   ]
  },
  {
   "cell_type": "code",
   "execution_count": 3,
   "id": "4cd31342-6fb2-4227-b118-d185c812cd97",
   "metadata": {
    "tags": []
   },
   "outputs": [],
   "source": [
    "scaler = MinMaxScaler()\n",
    "data_scaled = scaler.fit_transform(data.drop(columns='is_long_method'))\n",
    "\n",
    "X = data_scaled.reshape(data_scaled.shape[0], data_scaled.shape[1], 1)\n",
    "y = data['is_long_method'].values"
   ]
  },
  {
   "cell_type": "markdown",
   "id": "3de480c1-83c8-4e8e-8427-2b988053434a",
   "metadata": {},
   "source": [
    "# Split data"
   ]
  },
  {
   "cell_type": "code",
   "execution_count": 4,
   "id": "46a0d640-a3d6-471a-8e2d-6a56183bde81",
   "metadata": {
    "tags": []
   },
   "outputs": [],
   "source": [
    "X_train, X_test, y_train, y_test = train_test_split(X, y, test_size=0.2, random_state=42)"
   ]
  },
  {
   "cell_type": "markdown",
   "id": "44a730c4-6b66-4719-a818-704bbec583c5",
   "metadata": {},
   "source": [
    "# Model Building"
   ]
  },
  {
   "cell_type": "code",
   "execution_count": 5,
   "id": "ffe02e7d-c52a-4cb9-b763-26b27b9c6a26",
   "metadata": {
    "tags": []
   },
   "outputs": [
    {
     "name": "stdout",
     "output_type": "stream",
     "text": [
      "Model: \"sequential\"\n",
      "_________________________________________________________________\n",
      " Layer (type)                Output Shape              Param #   \n",
      "=================================================================\n",
      " conv1d (Conv1D)             (None, 1, 32)             96        \n",
      "                                                                 \n",
      " flatten (Flatten)           (None, 32)                0         \n",
      "                                                                 \n",
      " dense (Dense)               (None, 128)               4224      \n",
      "                                                                 \n",
      " dropout (Dropout)           (None, 128)               0         \n",
      "                                                                 \n",
      " dense_1 (Dense)             (None, 64)                8256      \n",
      "                                                                 \n",
      " dense_2 (Dense)             (None, 1)                 65        \n",
      "                                                                 \n",
      "=================================================================\n",
      "Total params: 12,641\n",
      "Trainable params: 12,641\n",
      "Non-trainable params: 0\n",
      "_________________________________________________________________\n"
     ]
    }
   ],
   "source": [
    "model = Sequential()\n",
    "\n",
    "model.add(Conv1D(filters=32, kernel_size=2, activation='relu', input_shape=(2, 1)))\n",
    "\n",
    "model.add(Flatten())\n",
    "model.add(Dense(128, activation='relu'))\n",
    "model.add(Dropout(0.5))\n",
    "model.add(Dense(64, activation='relu'))\n",
    "model.add(Dense(1, activation='sigmoid'))\n",
    "\n",
    "model.compile(optimizer='adam', loss='binary_crossentropy', metrics=['accuracy'])\n",
    "model.summary()"
   ]
  },
  {
   "cell_type": "markdown",
   "id": "7b6ba51c-2e92-4d7a-837b-545f1ba0d795",
   "metadata": {},
   "source": [
    "# Train the model"
   ]
  },
  {
   "cell_type": "code",
   "execution_count": 6,
   "id": "26a30530-a5e9-443b-8973-011a6b0f2b8b",
   "metadata": {
    "tags": []
   },
   "outputs": [
    {
     "name": "stdout",
     "output_type": "stream",
     "text": [
      "Epoch 1/10\n",
      "34/34 [==============================] - 3s 24ms/step - loss: 0.6817 - accuracy: 0.6170 - val_loss: 0.6704 - val_accuracy: 0.5902\n",
      "Epoch 2/10\n",
      "34/34 [==============================] - 0s 11ms/step - loss: 0.6578 - accuracy: 0.6509 - val_loss: 0.6471 - val_accuracy: 0.6541\n",
      "Epoch 3/10\n",
      "34/34 [==============================] - 0s 8ms/step - loss: 0.6184 - accuracy: 0.6745 - val_loss: 0.6161 - val_accuracy: 0.6767\n",
      "Epoch 4/10\n",
      "34/34 [==============================] - 0s 7ms/step - loss: 0.5837 - accuracy: 0.7123 - val_loss: 0.5818 - val_accuracy: 0.7068\n",
      "Epoch 5/10\n",
      "34/34 [==============================] - 0s 7ms/step - loss: 0.5626 - accuracy: 0.7245 - val_loss: 0.5520 - val_accuracy: 0.7556\n",
      "Epoch 6/10\n",
      "34/34 [==============================] - 0s 7ms/step - loss: 0.5292 - accuracy: 0.7632 - val_loss: 0.5387 - val_accuracy: 0.7744\n",
      "Epoch 7/10\n",
      "34/34 [==============================] - 0s 7ms/step - loss: 0.5225 - accuracy: 0.7575 - val_loss: 0.5209 - val_accuracy: 0.7594\n",
      "Epoch 8/10\n",
      "34/34 [==============================] - 0s 7ms/step - loss: 0.5133 - accuracy: 0.7575 - val_loss: 0.5308 - val_accuracy: 0.7556\n",
      "Epoch 9/10\n",
      "34/34 [==============================] - 0s 7ms/step - loss: 0.5245 - accuracy: 0.7642 - val_loss: 0.5062 - val_accuracy: 0.7707\n",
      "Epoch 10/10\n",
      "34/34 [==============================] - 0s 8ms/step - loss: 0.5071 - accuracy: 0.7594 - val_loss: 0.5032 - val_accuracy: 0.7707\n"
     ]
    },
    {
     "data": {
      "text/plain": [
       "<keras.callbacks.History at 0x19cc3d76fe0>"
      ]
     },
     "execution_count": 6,
     "metadata": {},
     "output_type": "execute_result"
    }
   ],
   "source": [
    "model.fit(X_train, y_train, epochs=10, batch_size=32, validation_data=(X_test, y_test))"
   ]
  },
  {
   "cell_type": "markdown",
   "id": "d913d6a8-3069-4bfc-8101-d176f8cb889e",
   "metadata": {},
   "source": [
    "# Evaluation"
   ]
  },
  {
   "cell_type": "code",
   "execution_count": 7,
   "id": "74161175-298e-4feb-9eca-bb8f5ca3ebdf",
   "metadata": {
    "tags": []
   },
   "outputs": [
    {
     "name": "stdout",
     "output_type": "stream",
     "text": [
      "9/9 - 0s - loss: 0.5032 - accuracy: 0.7707 - 84ms/epoch - 9ms/step\n",
      "\n",
      "Test accuracy: 0.7706766724586487\n"
     ]
    }
   ],
   "source": [
    "test_loss, test_acc = model.evaluate(X_test, y_test, verbose=2)\n",
    "print(\"\\nTest accuracy:\", test_acc)"
   ]
  },
  {
   "cell_type": "code",
   "execution_count": 8,
   "id": "32d8c41c-23ae-4647-810b-b128f4cf265a",
   "metadata": {
    "tags": []
   },
   "outputs": [
    {
     "name": "stdout",
     "output_type": "stream",
     "text": [
      "9/9 [==============================] - 0s 5ms/step\n",
      "Recall: 0.8055555555555556\n",
      "Precision: 0.6850393700787402\n",
      "F1 Score: 0.7404255319148937\n"
     ]
    }
   ],
   "source": [
    "from sklearn.metrics import recall_score, precision_score\n",
    "from sklearn.metrics import f1_score\n",
    "y_pred_probs = model.predict(X_test)\n",
    "y_pred = (y_pred_probs > 0.5).astype(int).flatten()\n",
    "\n",
    "recall = recall_score(y_test, y_pred)\n",
    "precision = precision_score(y_test, y_pred)\n",
    "f1 = f1_score(y_test, y_pred)\n",
    "\n",
    "print(f\"Recall: {recall}\")\n",
    "print(f\"Precision: {precision}\")\n",
    "print(f\"F1 Score: {f1}\")"
   ]
  },
  {
   "cell_type": "code",
   "execution_count": null,
   "id": "1de447f5-5f23-4bc4-8080-a03fc3db1fd9",
   "metadata": {},
   "outputs": [],
   "source": [
    "import joblib\n",
    "model.save('lm_model.h5')\n",
    "joblib.dump(scaler, 'lm_scalar.pkl')"
   ]
  }
 ],
 "metadata": {
  "kernelspec": {
   "display_name": "Python 3 (ipykernel)",
   "language": "python",
   "name": "python3"
  },
  "language_info": {
   "codemirror_mode": {
    "name": "ipython",
    "version": 3
   },
   "file_extension": ".py",
   "mimetype": "text/x-python",
   "name": "python",
   "nbconvert_exporter": "python",
   "pygments_lexer": "ipython3",
   "version": "3.10.12"
  }
 },
 "nbformat": 4,
 "nbformat_minor": 5
}
