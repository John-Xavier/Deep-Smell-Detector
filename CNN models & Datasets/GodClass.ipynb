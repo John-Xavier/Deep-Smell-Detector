{
 "cells": [
  {
   "cell_type": "code",
   "execution_count": 9,
   "id": "ceb458fb-9901-4a7c-b9e3-e028c148ae4d",
   "metadata": {
    "tags": []
   },
   "outputs": [],
   "source": [
    "import pandas as pd\n",
    "from sklearn.model_selection import train_test_split\n",
    "from sklearn.preprocessing import MinMaxScaler\n",
    "from tensorflow.keras.models import Sequential\n",
    "from tensorflow.keras.layers import Dense, Conv1D, Flatten, MaxPooling1D, Dropout\n",
    "from sklearn.metrics import recall_score, precision_score"
   ]
  },
  {
   "cell_type": "markdown",
   "id": "b045a889-4ea3-4698-87c6-d94db2581faa",
   "metadata": {},
   "source": [
    "# Load the data"
   ]
  },
  {
   "cell_type": "code",
   "execution_count": 10,
   "id": "35932418-d593-4367-8d5e-21bead3928e5",
   "metadata": {
    "tags": []
   },
   "outputs": [],
   "source": [
    "data = pd.read_csv('god-class-2020+2019+2018.csv')\n",
    "data = data[['WMCNAMM_type', 'LOC_type','is_god_class']]"
   ]
  },
  {
   "cell_type": "markdown",
   "id": "c7e91b05-4e90-482e-ace0-26fd4622a3b8",
   "metadata": {},
   "source": [
    "# Normalize the data"
   ]
  },
  {
   "cell_type": "code",
   "execution_count": 11,
   "id": "4cd31342-6fb2-4227-b118-d185c812cd97",
   "metadata": {
    "tags": []
   },
   "outputs": [],
   "source": [
    "scaler = MinMaxScaler()\n",
    "data_scaled = scaler.fit_transform(data.drop(columns='is_god_class'))\n",
    "X = data_scaled.reshape(data_scaled.shape[0], data_scaled.shape[1], 1)\n",
    "y = data['is_god_class'].values"
   ]
  },
  {
   "cell_type": "markdown",
   "id": "5e834110-9016-486e-98d1-b471851eae0d",
   "metadata": {},
   "source": [
    "# Split data"
   ]
  },
  {
   "cell_type": "code",
   "execution_count": 12,
   "id": "46a0d640-a3d6-471a-8e2d-6a56183bde81",
   "metadata": {
    "tags": []
   },
   "outputs": [],
   "source": [
    "X_train, X_test, y_train, y_test = train_test_split(X, y, test_size=0.2, random_state=42)"
   ]
  },
  {
   "cell_type": "markdown",
   "id": "f8cb4ea0-7e71-4f51-8683-afe3ee55c23b",
   "metadata": {},
   "source": [
    "# Model Building"
   ]
  },
  {
   "cell_type": "code",
   "execution_count": 13,
   "id": "ffe02e7d-c52a-4cb9-b763-26b27b9c6a26",
   "metadata": {
    "tags": []
   },
   "outputs": [
    {
     "name": "stdout",
     "output_type": "stream",
     "text": [
      "Model: \"sequential_1\"\n",
      "_________________________________________________________________\n",
      " Layer (type)                Output Shape              Param #   \n",
      "=================================================================\n",
      " conv1d_1 (Conv1D)           (None, 1, 32)             96        \n",
      "                                                                 \n",
      " flatten_1 (Flatten)         (None, 32)                0         \n",
      "                                                                 \n",
      " dense_3 (Dense)             (None, 128)               4224      \n",
      "                                                                 \n",
      " dropout_1 (Dropout)         (None, 128)               0         \n",
      "                                                                 \n",
      " dense_4 (Dense)             (None, 64)                8256      \n",
      "                                                                 \n",
      " dense_5 (Dense)             (None, 1)                 65        \n",
      "                                                                 \n",
      "=================================================================\n",
      "Total params: 12,641\n",
      "Trainable params: 12,641\n",
      "Non-trainable params: 0\n",
      "_________________________________________________________________\n"
     ]
    }
   ],
   "source": [
    "model = Sequential()\n",
    "\n",
    "model.add(Conv1D(filters=32, kernel_size=2, activation='relu', input_shape=(X_train.shape[1], 1)))\n",
    "\n",
    "model.add(Flatten())\n",
    "model.add(Dense(128, activation='relu'))\n",
    "model.add(Dropout(0.5))\n",
    "\n",
    "model.add(Dense(64, activation='relu'))\n",
    "model.add(Dense(1, activation='sigmoid'))\n",
    "\n",
    "model.compile(optimizer='adam', loss='binary_crossentropy', metrics=['accuracy'])\n",
    "model.summary()"
   ]
  },
  {
   "cell_type": "markdown",
   "id": "5ff0d1db-dc2a-4279-96e5-869f0caedf01",
   "metadata": {},
   "source": [
    "# Train the model"
   ]
  },
  {
   "cell_type": "code",
   "execution_count": 14,
   "id": "26a30530-a5e9-443b-8973-011a6b0f2b8b",
   "metadata": {
    "tags": []
   },
   "outputs": [
    {
     "name": "stdout",
     "output_type": "stream",
     "text": [
      "Epoch 1/10\n",
      "8/8 [==============================] - 2s 92ms/step - loss: 0.6843 - accuracy: 0.6419 - val_loss: 0.6709 - val_accuracy: 0.5690\n",
      "Epoch 2/10\n",
      "8/8 [==============================] - 0s 33ms/step - loss: 0.6672 - accuracy: 0.5808 - val_loss: 0.6515 - val_accuracy: 0.5690\n",
      "Epoch 3/10\n",
      "8/8 [==============================] - 0s 14ms/step - loss: 0.6491 - accuracy: 0.5764 - val_loss: 0.6370 - val_accuracy: 0.5690\n",
      "Epoch 4/10\n",
      "8/8 [==============================] - 0s 14ms/step - loss: 0.6383 - accuracy: 0.5764 - val_loss: 0.6176 - val_accuracy: 0.5690\n",
      "Epoch 5/10\n",
      "8/8 [==============================] - 0s 16ms/step - loss: 0.6247 - accuracy: 0.6419 - val_loss: 0.5984 - val_accuracy: 0.8103\n",
      "Epoch 6/10\n",
      "8/8 [==============================] - 0s 14ms/step - loss: 0.6083 - accuracy: 0.7904 - val_loss: 0.5812 - val_accuracy: 0.8103\n",
      "Epoch 7/10\n",
      "8/8 [==============================] - 0s 14ms/step - loss: 0.5990 - accuracy: 0.8079 - val_loss: 0.5676 - val_accuracy: 0.8103\n",
      "Epoch 8/10\n",
      "8/8 [==============================] - 0s 14ms/step - loss: 0.5845 - accuracy: 0.8079 - val_loss: 0.5527 - val_accuracy: 0.8103\n",
      "Epoch 9/10\n",
      "8/8 [==============================] - 0s 16ms/step - loss: 0.5708 - accuracy: 0.8122 - val_loss: 0.5360 - val_accuracy: 0.8103\n",
      "Epoch 10/10\n",
      "8/8 [==============================] - 0s 14ms/step - loss: 0.5605 - accuracy: 0.8122 - val_loss: 0.5240 - val_accuracy: 0.8103\n"
     ]
    },
    {
     "data": {
      "text/plain": [
       "<keras.callbacks.History at 0x2674c94b3a0>"
      ]
     },
     "execution_count": 14,
     "metadata": {},
     "output_type": "execute_result"
    }
   ],
   "source": [
    "model.fit(X_train, y_train, epochs=10, batch_size=32, validation_data=(X_test, y_test))"
   ]
  },
  {
   "cell_type": "markdown",
   "id": "46d489bb-403e-4991-92ba-b7aff6f1f2f1",
   "metadata": {},
   "source": [
    "# Evaluation"
   ]
  },
  {
   "cell_type": "code",
   "execution_count": 15,
   "id": "74161175-298e-4feb-9eca-bb8f5ca3ebdf",
   "metadata": {
    "tags": []
   },
   "outputs": [
    {
     "name": "stdout",
     "output_type": "stream",
     "text": [
      "2/2 - 0s - loss: 0.5240 - accuracy: 0.8103 - 53ms/epoch - 26ms/step\n",
      "\n",
      "Test accuracy: 0.8103448152542114\n"
     ]
    }
   ],
   "source": [
    "test_loss, test_acc = model.evaluate(X_test, y_test, verbose=2)\n",
    "print(\"\\nTest accuracy:\", test_acc)"
   ]
  },
  {
   "cell_type": "code",
   "execution_count": 16,
   "id": "265a8ff8-cb57-4309-8642-42ff3c2c77f4",
   "metadata": {
    "tags": []
   },
   "outputs": [
    {
     "name": "stdout",
     "output_type": "stream",
     "text": [
      "2/2 [==============================] - 0s 8ms/step\n",
      "Recall: 0.8484848484848485\n",
      "Precision: 0.8235294117647058\n",
      "F1 Score: 0.8358208955223881\n"
     ]
    }
   ],
   "source": [
    "from sklearn.metrics import recall_score, precision_score\n",
    "from sklearn.metrics import f1_score\n",
    "y_pred_probs = model.predict(X_test)\n",
    "y_pred = (y_pred_probs > 0.5).astype(int).flatten()\n",
    "\n",
    "recall = recall_score(y_test, y_pred)\n",
    "precision = precision_score(y_test, y_pred)\n",
    "f1 = f1_score(y_test, y_pred)\n",
    "\n",
    "print(f\"Recall: {recall}\")\n",
    "print(f\"Precision: {precision}\")\n",
    "print(f\"F1 Score: {f1}\")"
   ]
  },
  {
   "cell_type": "code",
   "execution_count": null,
   "id": "f021b840-0918-4d37-911a-eb1d2201ca10",
   "metadata": {},
   "outputs": [],
   "source": [
    "import joblib\n",
    "model.save('gc_model.h5')\n",
    "joblib.dump(scaler, 'gc_scalar.pkl')"
   ]
  },
  {
   "cell_type": "code",
   "execution_count": null,
   "id": "5e027835-b47c-409a-8202-9999252c7bf5",
   "metadata": {},
   "outputs": [],
   "source": []
  }
 ],
 "metadata": {
  "kernelspec": {
   "display_name": "Python 3 (ipykernel)",
   "language": "python",
   "name": "python3"
  },
  "language_info": {
   "codemirror_mode": {
    "name": "ipython",
    "version": 3
   },
   "file_extension": ".py",
   "mimetype": "text/x-python",
   "name": "python",
   "nbconvert_exporter": "python",
   "pygments_lexer": "ipython3",
   "version": "3.10.12"
  }
 },
 "nbformat": 4,
 "nbformat_minor": 5
}
